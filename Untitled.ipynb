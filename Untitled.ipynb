{
 "cells": [
  {
   "cell_type": "code",
   "execution_count": 1,
   "metadata": {},
   "outputs": [
    {
     "name": "stdout",
     "output_type": "stream",
     "text": [
      "total 64\n",
      "drwxr-xr-x 10 vagrant vagrant 4096 Sep 11 09:59 \u001b[0m\u001b[01;34m.\u001b[0m\n",
      "drwxr-xr-x  3 root    root    4096 Feb 23  2018 \u001b[01;34m..\u001b[0m\n",
      "-rw-------  1 vagrant vagrant   31 Sep  4 09:43 .bash_history\n",
      "-rw-r--r--  1 vagrant vagrant  220 Feb 23  2018 .bash_logout\n",
      "-rw-r--r--  1 vagrant vagrant 3713 Apr 22 14:20 .bashrc\n",
      "drwx------  3 vagrant vagrant 4096 Apr 22 14:28 \u001b[01;34m.cache\u001b[0m\n",
      "drwxr-xr-x  2 vagrant vagrant 4096 Sep 11 09:57 \u001b[01;34m.ipynb_checkpoints\u001b[0m\n",
      "drwxr-xr-x  5 vagrant vagrant 4096 Sep 11 09:57 \u001b[01;34m.ipython\u001b[0m\n",
      "drwx------  6 vagrant vagrant 4096 Sep 11 09:35 \u001b[01;34m.local\u001b[0m\n",
      "drwxr-xr-x  2 vagrant vagrant 4096 Feb 23  2018 \u001b[01;34m.nano\u001b[0m\n",
      "-rw-r--r--  1 vagrant vagrant  675 Feb 23  2018 .profile\n",
      "drwxrwxrwx  1 vagrant vagrant 4096 Aug 30 12:45 \u001b[34;42mproyectos\u001b[0m\n",
      "drwxr-xr-x 13 vagrant vagrant 4096 Apr 22 14:20 \u001b[01;34m.pyenv\u001b[0m\n",
      "drwx------  2 vagrant vagrant 4096 Sep  4 09:07 \u001b[01;34m.ssh\u001b[0m\n",
      "-rw-r--r--  1 vagrant vagrant  410 Sep 11 09:59 Untitled.ipynb\n",
      "-rw-r--r--  1 vagrant vagrant  180 Feb 23  2018 .wget-hsts\n"
     ]
    }
   ],
   "source": [
    "ls -al"
   ]
  },
  {
   "cell_type": "markdown",
   "metadata": {},
   "source": [
    "# Comando Top\n",
    "El comando top nos da información acerca del uso de la cpu, de la memoria, de los procesos en ejecución, etc en tiempo real.\n",
    "\n",
    "Nos puede ayudar a monitorizar nuestro servidor dedicado si notamos que algo no funciona bien. En ocasiones podemos notar alguna incidencia y gracias al comando top, podemos encaminarnos hacia la causa del problema."
   ]
  },
  {
   "cell_type": "code",
   "execution_count": null,
   "metadata": {},
   "outputs": [],
   "source": [
    "top"
   ]
  },
  {
   "cell_type": "markdown",
   "metadata": {},
   "source": [
    "# Comando MKDIR\n",
    "sirve para crear carpetas (directorios), no trabaja si existe un directorio con el mismo nombre. Acrónimo del ingles \"make directory\", que en español significa hacer directorios."
   ]
  },
  {
   "cell_type": "code",
   "execution_count": null,
   "metadata": {},
   "outputs": [],
   "source": [
    "mkdir"
   ]
  },
  {
   "cell_type": "markdown",
   "metadata": {},
   "source": [
    "# Comando HTOP\n",
    "l encabezado muestra los promedios de la CPU y el cuerpo principal de la aplicación contiene más información sobre cada proceso."
   ]
  },
  {
   "cell_type": "code",
   "execution_count": null,
   "metadata": {},
   "outputs": [],
   "source": [
    "htop"
   ]
  },
  {
   "cell_type": "markdown",
   "metadata": {},
   "source": [
    "# Comando CP\n",
    "Este comando sirve para copiar archivos y directorios dentro del sistema de archivos (file system) de un sistema Linux."
   ]
  },
  {
   "cell_type": "code",
   "execution_count": null,
   "metadata": {},
   "outputs": [],
   "source": []
  },
  {
   "cell_type": "markdown",
   "metadata": {},
   "source": [
    "# Comando MV\n",
    "Es un comando de Unix usado para mover o renombrar archivos o directorios del sistema de archivos. El archivo original es borrado y se crea un nuevo archivo con el mismo contenido, el nombre puede ser diferente o puede ser el mismo."
   ]
  },
  {
   "cell_type": "code",
   "execution_count": null,
   "metadata": {},
   "outputs": [],
   "source": [
    "mv"
   ]
  },
  {
   "cell_type": "code",
   "execution_count": null,
   "metadata": {},
   "outputs": [],
   "source": []
  },
  {
   "cell_type": "markdown",
   "metadata": {},
   "source": [
    "# Comando Tree\n",
    "El comando tree nos permite imprimir en consola la estructura de directorios y sus archivos, los muestra en diagrama de niveles y subniveles."
   ]
  },
  {
   "cell_type": "code",
   "execution_count": 3,
   "metadata": {},
   "outputs": [
    {
     "name": "stdout",
     "output_type": "stream",
     "text": [
      "bash: tree: command not found\n"
     ]
    },
    {
     "ename": "",
     "evalue": "127",
     "output_type": "error",
     "traceback": []
    }
   ],
   "source": [
    "tree /home"
   ]
  },
  {
   "cell_type": "markdown",
   "metadata": {},
   "source": [
    "# El parametro *-l* nos muestra en una lista los archivos y añade información del archivo o directorio mostrado (permisos, a quien pertenece y grupo al que pertenece y grupo al que pertenece, tamaño en disco, fecha de creación o modificación.\n",
    "\n",
    "NOTA: Podemos diferenciar entre un archivo y directorio por la inicial mostrada (*drwxr-xr-x* directorio *-rw-r--r--* archivo).\n",
    "\n",
    "El parametro *-h* nos muestra en un formato mas amigable human readable el tamaño de los archivos."
   ]
  },
  {
   "cell_type": "markdown",
   "metadata": {},
   "source": [
    "# ¿Qué es un sistema operativo?\n",
    " Conjunto de órdenes y programas que controlan los procesos básicos de una computadora y permiten el funcionamiento de otros programas."
   ]
  },
  {
   "cell_type": "markdown",
   "metadata": {},
   "source": [
    "# Tipos de sistemas operativos\n",
    "# Monotarea\n",
    "# Multitarea\n",
    "# Monousuario\n",
    "# Multiusuario\n",
    "# Monoproceso\n",
    "# Multiproceso.\n"
   ]
  },
  {
   "cell_type": "markdown",
   "metadata": {},
   "source": [
    "# Comando Nice\n",
    "El comando nice en Linux nos permite modificar la prioridad de un proceso frente al resto dentro del sistema. El kernel Linux es el encargado de planificar y asignar tiempo de CPU a cada uno de los procesos que corren en el sistema. El rango de asignación de prioridad disponible es de -20 a 19 , siendo -20 la mayor prioridad y 19 la menor. Gracias a nice podemos asegurarnos que en momentos de usos elevados de CPU los procesos adecuados reciban el mayor % de la misma."
   ]
  },
  {
   "cell_type": "markdown",
   "metadata": {},
   "source": [
    "# Comando basicos de Linux\n",
    "\n",
    "Aqui vamos a documentar algunos comandos basicos de Linux\n",
    "\n",
    "# Comando **ls**:\n",
    "Nos muestra en pantalla un listado de archivos del directorio donde estemos\n",
    "posicionados o bien recibe un parametro de la ruta a listar."
   ]
  },
  {
   "cell_type": "code",
   "execution_count": 2,
   "metadata": {},
   "outputs": [
    {
     "name": "stdout",
     "output_type": "stream",
     "text": [
      "\u001b[0m\u001b[34;42mproyectos\u001b[0m  Untitled.ipynb\n"
     ]
    }
   ],
   "source": [
    "ls"
   ]
  },
  {
   "cell_type": "code",
   "execution_count": 1,
   "metadata": {},
   "outputs": [
    {
     "name": "stdout",
     "output_type": "stream",
     "text": [
      "\u001b[0m\u001b[01;34m.\u001b[0m              .bashrc             \u001b[01;34m.jupyter\u001b[0m  \u001b[34;42mproyectos\u001b[0m       .wget-hsts\n",
      "\u001b[01;34m..\u001b[0m             \u001b[01;34m.cache\u001b[0m              \u001b[01;34m.local\u001b[0m    \u001b[01;34m.pyenv\u001b[0m\n",
      ".bash_history  \u001b[01;34m.ipynb_checkpoints\u001b[0m  \u001b[01;34m.nano\u001b[0m     \u001b[01;34m.ssh\u001b[0m\n",
      ".bash_logout   \u001b[01;34m.ipython\u001b[0m            .profile  Untitled.ipynb\n"
     ]
    }
   ],
   "source": [
    "ls -a /home/vagrant"
   ]
  },
  {
   "cell_type": "markdown",
   "metadata": {},
   "source": [
    "El parametro *-a* muestra todos los archivos (ocultos y no ocultos) este parametro se puede mezclar con otros parametros."
   ]
  },
  {
   "cell_type": "code",
   "execution_count": 3,
   "metadata": {},
   "outputs": [
    {
     "name": "stdout",
     "output_type": "stream",
     "text": [
      "\u001b[0m\u001b[01;32m[\u001b[0m                                   \u001b[01;32mmapscrn\u001b[0m\n",
      "\u001b[01;36m2to3\u001b[0m                                \u001b[01;32mmawk\u001b[0m\n",
      "\u001b[01;32m2to3-2.7\u001b[0m                            \u001b[01;32mmcookie\u001b[0m\n",
      "\u001b[01;32m2to3-3.5\u001b[0m                            \u001b[01;32mmd5sum\u001b[0m\n",
      "\u001b[01;32maddpart\u001b[0m                             \u001b[01;36mmd5sum.textutils\u001b[0m\n",
      "\u001b[01;36maddr2line\u001b[0m                           \u001b[01;32mmesg\u001b[0m\n",
      "\u001b[01;32mappres\u001b[0m                              \u001b[01;36mmessages\u001b[0m\n",
      "\u001b[01;36mapropos\u001b[0m                             \u001b[01;32mmessages.mailutils\u001b[0m\n",
      "\u001b[01;32mapt\u001b[0m                                 \u001b[01;32mmigrate-pubring-from-classic-gpg\u001b[0m\n",
      "\u001b[01;32mapt-cache\u001b[0m                           \u001b[01;32mmimeview\u001b[0m\n",
      "\u001b[01;32mapt-cdrom\u001b[0m                           \u001b[01;32mmkfifo\u001b[0m\n",
      "\u001b[01;32mapt-config\u001b[0m                          \u001b[01;32mmk_modmap\u001b[0m\n",
      "\u001b[01;32mapt-extracttemplates\u001b[0m                \u001b[01;36mmovemail\u001b[0m\n",
      "\u001b[01;32mapt-ftparchive\u001b[0m                      \u001b[01;32mmovemail.mailutils\u001b[0m\n",
      "\u001b[01;32mapt-get\u001b[0m                             \u001b[01;32mmpicalc\u001b[0m\n",
      "\u001b[01;32mapt-key\u001b[0m                             \u001b[01;32mmtrace\u001b[0m\n",
      "\u001b[01;32mapt-listchanges\u001b[0m                     \u001b[01;32mmunchlist\u001b[0m\n",
      "\u001b[01;32mapt-mark\u001b[0m                            \u001b[01;32mnamei\u001b[0m\n",
      "\u001b[01;32mapt-sortpkgs\u001b[0m                        \u001b[01;36mnawk\u001b[0m\n",
      "\u001b[01;36mar\u001b[0m                                  \u001b[01;32mncal\u001b[0m\n",
      "\u001b[01;32march\u001b[0m                                \u001b[01;32mncurses5-config\u001b[0m\n",
      "\u001b[01;36mas\u001b[0m                                  \u001b[01;32mneqn\u001b[0m\n",
      "\u001b[01;36mawk\u001b[0m                                 \u001b[01;36mnewaliases\u001b[0m\n",
      "\u001b[01;32mb2sum\u001b[0m                               \u001b[37;41mnewgrp\u001b[0m\n",
      "\u001b[01;32mbase32\u001b[0m                              \u001b[01;32mngettext\u001b[0m\n",
      "\u001b[01;32mbase64\u001b[0m                              \u001b[01;32mnice\u001b[0m\n",
      "\u001b[01;32mbasename\u001b[0m                            \u001b[01;32mnl\u001b[0m\n",
      "\u001b[01;32mbashbug\u001b[0m                             \u001b[01;36mnm\u001b[0m\n",
      "\u001b[01;32mbootctl\u001b[0m                             \u001b[01;32mnohup\u001b[0m\n",
      "\u001b[01;32mbsd-from\u001b[0m                            \u001b[01;32mnproc\u001b[0m\n",
      "\u001b[30;43mbsd-write\u001b[0m                           \u001b[01;32mnroff\u001b[0m\n",
      "\u001b[01;36mbugpoint\u001b[0m                            \u001b[01;32mnsenter\u001b[0m\n",
      "\u001b[01;36mbugpoint-3.8\u001b[0m                        \u001b[01;32mnslookup\u001b[0m\n",
      "\u001b[01;32mbuildhash\u001b[0m                           \u001b[01;32mnspr-config\u001b[0m\n",
      "\u001b[01;32mbusctl\u001b[0m                              \u001b[01;32mnss-config\u001b[0m\n",
      "\u001b[01;36mc++\u001b[0m                                 \u001b[01;32mnstat\u001b[0m\n",
      "\u001b[01;32mc2ph\u001b[0m                                \u001b[01;32mnsupdate\u001b[0m\n",
      "\u001b[01;36mc89\u001b[0m                                 \u001b[01;32mnumfmt\u001b[0m\n",
      "\u001b[01;32mc89-gcc\u001b[0m                             \u001b[01;36mobj2yaml\u001b[0m\n",
      "\u001b[01;36mc99\u001b[0m                                 \u001b[01;36mobj2yaml-3.8\u001b[0m\n",
      "\u001b[01;32mc99-gcc\u001b[0m                             \u001b[01;36mobjcopy\u001b[0m\n",
      "\u001b[01;36mcal\u001b[0m                                 \u001b[01;36mobjdump\u001b[0m\n",
      "\u001b[01;32mcalendar\u001b[0m                            \u001b[01;32mod\u001b[0m\n",
      "\u001b[01;36mcaptoinfo\u001b[0m                           \u001b[01;36mon_ac_power\u001b[0m\n",
      "\u001b[01;32mcatchsegv\u001b[0m                           \u001b[01;32mopenssl\u001b[0m\n",
      "\u001b[01;32mcatman\u001b[0m                              \u001b[01;36mopt\u001b[0m\n",
      "\u001b[01;36mcc\u001b[0m                                  \u001b[01;36mopt-3.8\u001b[0m\n",
      "\u001b[01;36mc++filt\u001b[0m                             \u001b[01;32mos-prober\u001b[0m\n",
      "\u001b[30;43mchage\u001b[0m                               \u001b[01;36mpager\u001b[0m\n",
      "\u001b[01;36mchardet3\u001b[0m                            \u001b[01;32mpartx\u001b[0m\n",
      "\u001b[01;32mchardetect3\u001b[0m                         \u001b[37;41mpasswd\u001b[0m\n",
      "\u001b[01;32mchattr\u001b[0m                              \u001b[01;32mpaste\u001b[0m\n",
      "\u001b[01;32mchcon\u001b[0m                               \u001b[01;32mpatch\u001b[0m\n",
      "\u001b[37;41mchfn\u001b[0m                                \u001b[01;32mpathchk\u001b[0m\n",
      "\u001b[01;32mchrt\u001b[0m                                \u001b[01;32mpcimodules\u001b[0m\n",
      "\u001b[37;41mchsh\u001b[0m                                \u001b[01;36mpdb\u001b[0m\n",
      "\u001b[01;32mckbcomp\u001b[0m                             \u001b[01;36mpdb2.7\u001b[0m\n",
      "\u001b[01;32mcksum\u001b[0m                               \u001b[01;36mpdb3\u001b[0m\n",
      "\u001b[01;32mclear\u001b[0m                               \u001b[01;36mpdb3.5\u001b[0m\n",
      "\u001b[01;32mclear_console\u001b[0m                       \u001b[01;32mpeekfd\u001b[0m\n",
      "\u001b[01;32mcmp\u001b[0m                                 \u001b[01;32mperf\u001b[0m\n",
      "\u001b[01;32mcodepage\u001b[0m                            \u001b[01;32mperl\u001b[0m\n",
      "\u001b[01;32mcol\u001b[0m                                 \u001b[01;32mperl5.24.1\u001b[0m\n",
      "\u001b[01;32mcolcrt\u001b[0m                              \u001b[01;32mperl5.24-x86_64-linux-gnu\u001b[0m\n",
      "\u001b[01;32mcolrm\u001b[0m                               \u001b[01;32mperlbug\u001b[0m\n",
      "\u001b[01;32mcolumn\u001b[0m                              \u001b[01;32mperldoc\u001b[0m\n",
      "\u001b[01;32mcomm\u001b[0m                                \u001b[01;32mperlivp\u001b[0m\n",
      "\u001b[01;36mcompose\u001b[0m                             \u001b[01;32mperlthanks\u001b[0m\n",
      "\u001b[01;32mcorelist\u001b[0m                            \u001b[01;32mpg\u001b[0m\n",
      "\u001b[01;32mcpan\u001b[0m                                \u001b[01;32mpgrep\u001b[0m\n",
      "\u001b[01;32mcpan5.24-x86_64-linux-gnu\u001b[0m           \u001b[01;32mpic\u001b[0m\n",
      "\u001b[01;36mcpp\u001b[0m                                 \u001b[01;36mpico\u001b[0m\n",
      "\u001b[01;36mcpp-6\u001b[0m                               \u001b[01;32mpiconv\u001b[0m\n",
      "\u001b[01;32mc_rehash\u001b[0m                            \u001b[01;36mpinentry\u001b[0m\n",
      "\u001b[30;43mcrontab\u001b[0m                             \u001b[01;32mpinentry-curses\u001b[0m\n",
      "\u001b[01;32mcsplit\u001b[0m                              \u001b[01;32mpinky\u001b[0m\n",
      "\u001b[01;36mctstat\u001b[0m                              \u001b[01;32mpip\u001b[0m\n",
      "\u001b[01;32mcurl\u001b[0m                                \u001b[01;32mpip2\u001b[0m\n",
      "\u001b[01;32mcut\u001b[0m                                 \u001b[01;32mpip3\u001b[0m\n",
      "\u001b[01;32mdbus-cleanup-sockets\u001b[0m                \u001b[01;32mpkg-config\u001b[0m\n",
      "\u001b[01;32mdbus-daemon\u001b[0m                         \u001b[01;32mpkgdata\u001b[0m\n",
      "\u001b[01;32mdbus-monitor\u001b[0m                        \u001b[01;36mpkill\u001b[0m\n",
      "\u001b[01;32mdbus-run-session\u001b[0m                    \u001b[01;32mpl2pm\u001b[0m\n",
      "\u001b[01;32mdbus-send\u001b[0m                           \u001b[01;32mpldd\u001b[0m\n",
      "\u001b[01;32mdbus-update-activation-environment\u001b[0m  \u001b[01;32mpmap\u001b[0m\n",
      "\u001b[01;32mdbus-uuidgen\u001b[0m                        \u001b[01;32mpngfix\u001b[0m\n",
      "\u001b[01;32mdeallocvt\u001b[0m                           \u001b[01;32mpng-fix-itxt\u001b[0m\n",
      "\u001b[01;32mdebconf\u001b[0m                             \u001b[01;32mpod2html\u001b[0m\n",
      "\u001b[01;32mdebconf-apt-progress\u001b[0m                \u001b[01;32mpod2man\u001b[0m\n",
      "\u001b[01;32mdebconf-communicate\u001b[0m                 \u001b[01;32mpod2text\u001b[0m\n",
      "\u001b[01;32mdebconf-copydb\u001b[0m                      \u001b[01;32mpod2usage\u001b[0m\n",
      "\u001b[01;32mdebconf-escape\u001b[0m                      \u001b[01;32mpodchecker\u001b[0m\n",
      "\u001b[01;32mdebconf-set-selections\u001b[0m              \u001b[01;32mpodselect\u001b[0m\n",
      "\u001b[01;32mdebconf-show\u001b[0m                        \u001b[01;32mpr\u001b[0m\n",
      "\u001b[01;32mdeb-systemd-helper\u001b[0m                  \u001b[01;32mpreconv\u001b[0m\n",
      "\u001b[01;32mdeb-systemd-invoke\u001b[0m                  \u001b[01;32mprename\u001b[0m\n",
      "\u001b[01;32mdefmt-c\u001b[0m                             \u001b[01;36mprint\u001b[0m\n",
      "\u001b[01;32mdefmt-sh\u001b[0m                            \u001b[01;32mprintenv\u001b[0m\n",
      "\u001b[01;32mdelpart\u001b[0m                             \u001b[01;32mprinterbanner\u001b[0m\n",
      "\u001b[01;32mderb\u001b[0m                                \u001b[01;32mprintf\u001b[0m\n",
      "\u001b[01;32mdh_bash-completion\u001b[0m                  \u001b[01;32mprlimit\u001b[0m\n",
      "\u001b[01;32mdh_installxmlcatalogs\u001b[0m               \u001b[01;32mprove\u001b[0m\n",
      "\u001b[01;36mdh_pypy\u001b[0m                             \u001b[01;32mprtstat\u001b[0m\n",
      "\u001b[01;32mdh_python2\u001b[0m                          \u001b[01;36mpsfaddtable\u001b[0m\n",
      "\u001b[01;36mdh_python3\u001b[0m                          \u001b[01;36mpsfgettable\u001b[0m\n",
      "\u001b[01;32mdiff\u001b[0m                                \u001b[01;36mpsfstriptable\u001b[0m\n",
      "\u001b[01;32mdiff3\u001b[0m                               \u001b[01;32mpsfxtable\u001b[0m\n",
      "\u001b[01;32mdig\u001b[0m                                 \u001b[01;32mpstree\u001b[0m\n",
      "\u001b[01;32mdircolors\u001b[0m                           \u001b[01;36mpstree.x11\u001b[0m\n",
      "\u001b[01;32mdirname\u001b[0m                             \u001b[01;32mpstruct\u001b[0m\n",
      "\u001b[01;32mdiscover-config\u001b[0m                     \u001b[01;32mptar\u001b[0m\n",
      "\u001b[01;36mdotlock\u001b[0m                             \u001b[01;32mptardiff\u001b[0m\n",
      "\u001b[30;43mdotlockfile\u001b[0m                         \u001b[01;32mptargrep\u001b[0m\n",
      "\u001b[30;43mdotlock.mailutils\u001b[0m                   \u001b[01;32mptx\u001b[0m\n",
      "\u001b[01;32mdpkg\u001b[0m                                \u001b[01;32mpwdx\u001b[0m\n",
      "\u001b[01;32mdpkg-architecture\u001b[0m                   \u001b[01;32mpy3clean\u001b[0m\n",
      "\u001b[01;32mdpkg-buildflags\u001b[0m                     \u001b[01;32mpy3compile\u001b[0m\n",
      "\u001b[01;32mdpkg-buildpackage\u001b[0m                   \u001b[01;36mpy3versions\u001b[0m\n",
      "\u001b[01;32mdpkg-checkbuilddeps\u001b[0m                 \u001b[01;36mpybuild\u001b[0m\n",
      "\u001b[01;32mdpkg-deb\u001b[0m                            \u001b[01;32mpyclean\u001b[0m\n",
      "\u001b[01;32mdpkg-distaddfile\u001b[0m                    \u001b[01;32mpycompile\u001b[0m\n",
      "\u001b[01;32mdpkg-divert\u001b[0m                         \u001b[01;36mpydoc\u001b[0m\n",
      "\u001b[01;32mdpkg-genbuildinfo\u001b[0m                   \u001b[01;32mpydoc2.7\u001b[0m\n",
      "\u001b[01;32mdpkg-genchanges\u001b[0m                     \u001b[01;36mpydoc3\u001b[0m\n",
      "\u001b[01;32mdpkg-gencontrol\u001b[0m                     \u001b[01;32mpydoc3.5\u001b[0m\n",
      "\u001b[01;32mdpkg-gensymbols\u001b[0m                     \u001b[01;36mpygettext\u001b[0m\n",
      "\u001b[01;32mdpkg-maintscript-helper\u001b[0m             \u001b[01;32mpygettext2.7\u001b[0m\n",
      "\u001b[01;32mdpkg-mergechangelogs\u001b[0m                \u001b[01;36mpygettext3\u001b[0m\n",
      "\u001b[01;32mdpkg-name\u001b[0m                           \u001b[01;32mpygettext3.5\u001b[0m\n",
      "\u001b[01;32mdpkg-parsechangelog\u001b[0m                 \u001b[01;36mpython\u001b[0m\n",
      "\u001b[01;32mdpkg-query\u001b[0m                          \u001b[01;36mpython2\u001b[0m\n",
      "\u001b[01;32mdpkg-scanpackages\u001b[0m                   \u001b[01;32mpython2.7\u001b[0m\n",
      "\u001b[01;32mdpkg-scansources\u001b[0m                    \u001b[01;36mpython2.7-config\u001b[0m\n",
      "\u001b[01;32mdpkg-shlibdeps\u001b[0m                      \u001b[01;36mpython2-config\u001b[0m\n",
      "\u001b[01;32mdpkg-source\u001b[0m                         \u001b[01;36mpython3\u001b[0m\n",
      "\u001b[01;32mdpkg-split\u001b[0m                          \u001b[01;32mpython3.5\u001b[0m\n",
      "\u001b[01;32mdpkg-statoverride\u001b[0m                   \u001b[01;36mpython3.5-config\u001b[0m\n",
      "\u001b[01;32mdpkg-trigger\u001b[0m                        \u001b[01;32mpython3.5m\u001b[0m\n",
      "\u001b[01;32mdpkg-vendor\u001b[0m                         \u001b[01;36mpython3.5m-config\u001b[0m\n",
      "\u001b[01;32mdu\u001b[0m                                  \u001b[01;36mpython3-config\u001b[0m\n",
      "\u001b[01;36mdumpkeys\u001b[0m                            \u001b[01;36mpython3m\u001b[0m\n",
      "\u001b[01;32mdumpsexp\u001b[0m                            \u001b[01;36mpython3m-config\u001b[0m\n",
      "\u001b[01;36mdwp\u001b[0m                                 \u001b[01;36mpython-config\u001b[0m\n",
      "\u001b[01;32measy_install\u001b[0m                        \u001b[01;36mpyversions\u001b[0m\n",
      "\u001b[01;32measy_install3\u001b[0m                       \u001b[01;32mquerybts\u001b[0m\n",
      "\u001b[01;36medit\u001b[0m                                \u001b[01;36mranlib\u001b[0m\n",
      "\u001b[01;36meditor\u001b[0m                              \u001b[01;36mrcp\u001b[0m\n",
      "\u001b[01;32meditres\u001b[0m                             \u001b[01;36mreadelf\u001b[0m\n",
      "\u001b[01;32meject\u001b[0m                               \u001b[01;36mreadmsg\u001b[0m\n",
      "\u001b[01;36melfedit\u001b[0m                             \u001b[01;32mreadmsg.mailutils\u001b[0m\n",
      "\u001b[01;32menc2xs\u001b[0m                              \u001b[01;32mrealpath\u001b[0m\n",
      "\u001b[01;32mencguess\u001b[0m                            \u001b[01;36mrename\u001b[0m\n",
      "\u001b[01;32menv\u001b[0m                                 \u001b[01;32mrename.ul\u001b[0m\n",
      "\u001b[01;32menvsubst\u001b[0m                            \u001b[01;32mrenice\u001b[0m\n",
      "\u001b[01;32meqn\u001b[0m                                 \u001b[01;32mreportbug\u001b[0m\n",
      "\u001b[01;36mex\u001b[0m                                  \u001b[01;32mreport-hw\u001b[0m\n",
      "\u001b[01;32mexpand\u001b[0m                              \u001b[01;36mreset\u001b[0m\n",
      "\u001b[30;43mexpiry\u001b[0m                              \u001b[01;32mresize\u001b[0m\n",
      "\u001b[01;32mexpr\u001b[0m                                \u001b[01;32mresizecons\u001b[0m\n",
      "\u001b[01;32mfactor\u001b[0m                              \u001b[01;32mresizepart\u001b[0m\n",
      "\u001b[01;32mfaillog\u001b[0m                             \u001b[01;32mrev\u001b[0m\n",
      "\u001b[01;32mfaked-sysv\u001b[0m                          \u001b[01;32mrgrep\u001b[0m\n",
      "\u001b[01;32mfaked-tcp\u001b[0m                           \u001b[01;36mrlogin\u001b[0m\n",
      "\u001b[01;36mfakeroot\u001b[0m                            \u001b[01;32mroutef\u001b[0m\n",
      "\u001b[01;32mfakeroot-sysv\u001b[0m                       \u001b[01;32mroutel\u001b[0m\n",
      "\u001b[01;32mfakeroot-tcp\u001b[0m                        \u001b[01;32mrpcgen\u001b[0m\n",
      "\u001b[01;32mfallocate\u001b[0m                           \u001b[01;36mrsh\u001b[0m\n",
      "\u001b[01;32mfile\u001b[0m                                \u001b[01;32mrsync\u001b[0m\n",
      "\u001b[01;32mfile-rename\u001b[0m                         \u001b[01;36mrtstat\u001b[0m\n",
      "\u001b[01;32mfind\u001b[0m                                \u001b[01;32mruncon\u001b[0m\n",
      "\u001b[01;32mfindaffix\u001b[0m                           \u001b[01;32mrun-mailcap\u001b[0m\n",
      "\u001b[01;32mflock\u001b[0m                               \u001b[01;36mrview\u001b[0m\n",
      "\u001b[01;32mfmt\u001b[0m                                 \u001b[01;32msavelog\u001b[0m\n",
      "\u001b[01;32mfold\u001b[0m                                \u001b[01;32mscp\u001b[0m\n",
      "\u001b[01;32mfree\u001b[0m                                \u001b[01;32mscreendump\u001b[0m\n",
      "\u001b[01;32mfreetype-config\u001b[0m                     \u001b[01;32mscript\u001b[0m\n",
      "\u001b[01;36mfrm\u001b[0m                                 \u001b[01;32mscriptreplay\u001b[0m\n",
      "\u001b[01;32mfrm.mailutils\u001b[0m                       \u001b[01;32msdiff\u001b[0m\n",
      "\u001b[01;36mfrom\u001b[0m                                \u001b[01;36msee\u001b[0m\n",
      "\u001b[01;32mfrom.mailutils\u001b[0m                      \u001b[01;32mselect-default-iwrap\u001b[0m\n",
      "\u001b[01;36mg++\u001b[0m                                 \u001b[01;32mselect-editor\u001b[0m\n",
      "\u001b[01;36mg++-6\u001b[0m                               \u001b[01;32msensible-browser\u001b[0m\n",
      "\u001b[01;36mgcc\u001b[0m                                 \u001b[01;32msensible-editor\u001b[0m\n",
      "\u001b[01;36mgcc-6\u001b[0m                               \u001b[01;32msensible-pager\u001b[0m\n",
      "\u001b[01;36mgcc-ar\u001b[0m                              \u001b[01;32mseq\u001b[0m\n",
      "\u001b[01;36mgcc-ar-6\u001b[0m                            \u001b[01;32msetarch\u001b[0m\n",
      "\u001b[01;36mgcc-nm\u001b[0m                              \u001b[01;32msetkeycodes\u001b[0m\n",
      "\u001b[01;36mgcc-nm-6\u001b[0m                            \u001b[01;32msetleds\u001b[0m\n",
      "\u001b[01;36mgcc-ranlib\u001b[0m                          \u001b[01;32msetlogcons\u001b[0m\n",
      "\u001b[01;36mgcc-ranlib-6\u001b[0m                        \u001b[01;32msetmetamode\u001b[0m\n",
      "\u001b[01;36mgcov\u001b[0m                                \u001b[01;32msetpci\u001b[0m\n",
      "\u001b[01;36mgcov-6\u001b[0m                              \u001b[01;32msetsid\u001b[0m\n",
      "\u001b[01;36mgcov-dump\u001b[0m                           \u001b[01;32msetterm\u001b[0m\n",
      "\u001b[01;36mgcov-dump-6\u001b[0m                         \u001b[01;32msetvtrgb\u001b[0m\n",
      "\u001b[01;36mgcov-tool\u001b[0m                           \u001b[01;32msftp\u001b[0m\n",
      "\u001b[01;36mgcov-tool-6\u001b[0m                         \u001b[01;36msg\u001b[0m\n",
      "\u001b[01;32mgenbrk\u001b[0m                              \u001b[01;32msha1sum\u001b[0m\n",
      "\u001b[01;32mgencat\u001b[0m                              \u001b[01;32msha224sum\u001b[0m\n",
      "\u001b[01;32mgencfu\u001b[0m                              \u001b[01;32msha256sum\u001b[0m\n",
      "\u001b[01;32mgencnval\u001b[0m                            \u001b[01;32msha384sum\u001b[0m\n",
      "\u001b[01;32mgendict\u001b[0m                             \u001b[01;32msha512sum\u001b[0m\n",
      "\u001b[01;32mgenrb\u001b[0m                               \u001b[01;32mshasum\u001b[0m\n",
      "\u001b[01;36mgeqn\u001b[0m                                \u001b[01;32mshowconsolefont\u001b[0m\n",
      "\u001b[01;32mgetconf\u001b[0m                             \u001b[01;32mshowkey\u001b[0m\n",
      "\u001b[01;32mgetent\u001b[0m                              \u001b[01;32mshred\u001b[0m\n",
      "\u001b[01;32mgetkeycodes\u001b[0m                         \u001b[01;32mshuf\u001b[0m\n",
      "\u001b[01;32mgetopt\u001b[0m                              \u001b[01;32msieve\u001b[0m\n",
      "\u001b[01;32mgettext\u001b[0m                             \u001b[01;36msize\u001b[0m\n",
      "\u001b[01;32mgettext.sh\u001b[0m                          \u001b[01;32mskill\u001b[0m\n",
      "\u001b[01;32mgit\u001b[0m                                 \u001b[01;32mslabtop\u001b[0m\n",
      "\u001b[01;36mgit-receive-pack\u001b[0m                    \u001b[01;36mslogin\u001b[0m\n",
      "\u001b[01;32mgit-shell\u001b[0m                           \u001b[01;36msnice\u001b[0m\n",
      "\u001b[01;36mgit-upload-archive\u001b[0m                  \u001b[01;32msoelim\u001b[0m\n",
      "\u001b[01;32mgit-upload-pack\u001b[0m                     \u001b[01;32msort\u001b[0m\n",
      "\u001b[01;36mgold\u001b[0m                                \u001b[01;32msotruss\u001b[0m\n",
      "\u001b[37;41mgpasswd\u001b[0m                             \u001b[01;32msplain\u001b[0m\n",
      "\u001b[01;32mgpg\u001b[0m                                 \u001b[01;32msplit\u001b[0m\n",
      "\u001b[01;32mgpg-agent\u001b[0m                           \u001b[01;32msplitfont\u001b[0m\n",
      "\u001b[01;32mgpgconf\u001b[0m                             \u001b[01;32msprof\u001b[0m\n",
      "\u001b[01;32mgpg-connect-agent\u001b[0m                   \u001b[01;32msq\u001b[0m\n",
      "\u001b[01;32mgpg-error\u001b[0m                           \u001b[01;32mssh\u001b[0m\n",
      "\u001b[01;32mgpg-error-config\u001b[0m                    \u001b[01;32mssh-add\u001b[0m\n",
      "\u001b[01;32mgpgparsemail\u001b[0m                        \u001b[30;43mssh-agent\u001b[0m\n",
      "\u001b[01;32mgpgsplit\u001b[0m                            \u001b[01;32mssh-argv0\u001b[0m\n",
      "\u001b[01;32mgpgv\u001b[0m                                \u001b[01;32mssh-copy-id\u001b[0m\n",
      "\u001b[01;32mgpg-zip\u001b[0m                             \u001b[01;32mssh-keygen\u001b[0m\n",
      "\u001b[01;36mgpic\u001b[0m                                \u001b[01;32mssh-keyscan\u001b[0m\n",
      "\u001b[01;36mgprof\u001b[0m                               \u001b[01;32mstat\u001b[0m\n",
      "\u001b[01;32mgroff\u001b[0m                               \u001b[01;32mstdbuf\u001b[0m\n",
      "\u001b[01;32mgrog\u001b[0m                                \u001b[01;36mstrings\u001b[0m\n",
      "\u001b[01;32mgrops\u001b[0m                               \u001b[01;36mstrip\u001b[0m\n",
      "\u001b[01;32mgrotty\u001b[0m                              \u001b[37;41msudo\u001b[0m\n",
      "\u001b[01;32mgroups\u001b[0m                              \u001b[01;36msudoedit\u001b[0m\n",
      "\u001b[01;32mgrub-editenv\u001b[0m                        \u001b[01;32msudoreplay\u001b[0m\n",
      "\u001b[01;32mgrub-file\u001b[0m                           \u001b[01;32msum\u001b[0m\n",
      "\u001b[01;32mgrub-fstest\u001b[0m                         \u001b[01;32msymcryptrun\u001b[0m\n",
      "\u001b[01;32mgrub-glue-efi\u001b[0m                       \u001b[01;32msystemd-analyze\u001b[0m\n",
      "\u001b[01;32mgrub-kbdcomp\u001b[0m                        \u001b[01;32msystemd-cat\u001b[0m\n",
      "\u001b[01;32mgrub-menulst2cfg\u001b[0m                    \u001b[01;32msystemd-cgls\u001b[0m\n",
      "\u001b[01;32mgrub-mkfont\u001b[0m                         \u001b[01;32msystemd-cgtop\u001b[0m\n",
      "\u001b[01;32mgrub-mkimage\u001b[0m                        \u001b[01;32msystemd-delta\u001b[0m\n",
      "\u001b[01;32mgrub-mklayout\u001b[0m                       \u001b[01;32msystemd-detect-virt\u001b[0m\n",
      "\u001b[01;32mgrub-mknetdir\u001b[0m                       \u001b[01;32msystemd-mount\u001b[0m\n",
      "\u001b[01;32mgrub-mkpasswd-pbkdf2\u001b[0m                \u001b[01;32msystemd-path\u001b[0m\n",
      "\u001b[01;32mgrub-mkrelpath\u001b[0m                      \u001b[01;32msystemd-resolve\u001b[0m\n",
      "\u001b[01;32mgrub-mkrescue\u001b[0m                       \u001b[01;32msystemd-run\u001b[0m\n",
      "\u001b[01;32mgrub-mkstandalone\u001b[0m                   \u001b[01;32msystemd-socket-activate\u001b[0m\n",
      "\u001b[01;32mgrub-mount\u001b[0m                          \u001b[01;32msystemd-stdio-bridge\u001b[0m\n",
      "\u001b[01;36mgrub-ntldr-img\u001b[0m                      \u001b[01;32mtabs\u001b[0m\n",
      "\u001b[01;32mgrub-render-label\u001b[0m                   \u001b[01;32mtac\u001b[0m\n",
      "\u001b[01;32mgrub-script-check\u001b[0m                   \u001b[01;32mtail\u001b[0m\n",
      "\u001b[01;32mgrub-syslinux2cfg\u001b[0m                   \u001b[01;32mtasksel\u001b[0m\n",
      "\u001b[01;36mgtbl\u001b[0m                                \u001b[01;32mtaskset\u001b[0m\n",
      "\u001b[01;32mh2ph\u001b[0m                                \u001b[01;32mtbl\u001b[0m\n",
      "\u001b[01;32mh2xs\u001b[0m                                \u001b[01;36mtclsh\u001b[0m\n",
      "\u001b[01;36mhd\u001b[0m                                  \u001b[01;32mtclsh8.6\u001b[0m\n",
      "\u001b[01;32mhead\u001b[0m                                \u001b[01;32mtcltk-depends\u001b[0m\n",
      "\u001b[01;32mhelpztags\u001b[0m                           \u001b[01;32mtee\u001b[0m\n",
      "\u001b[01;32mhexdump\u001b[0m                             \u001b[01;36mtelnet\u001b[0m\n",
      "\u001b[01;32mhmac256\u001b[0m                             \u001b[01;32mtelnet.netkit\u001b[0m\n",
      "\u001b[01;32mhost\u001b[0m                                \u001b[01;32mtest\u001b[0m\n",
      "\u001b[01;32mhostid\u001b[0m                              \u001b[01;32mtic\u001b[0m\n",
      "\u001b[01;32mhostnamectl\u001b[0m                         \u001b[01;32mtimedatectl\u001b[0m\n",
      "\u001b[01;32mhtop\u001b[0m                                \u001b[01;32mtimeout\u001b[0m\n",
      "\u001b[01;36mi386\u001b[0m                                \u001b[01;32mtload\u001b[0m\n",
      "\u001b[01;32micombine\u001b[0m                            \u001b[01;32mtoe\u001b[0m\n",
      "\u001b[01;32miconv\u001b[0m                               \u001b[01;32mtop\u001b[0m\n",
      "\u001b[01;32micu-config\u001b[0m                          \u001b[01;36mtouch\u001b[0m\n",
      "\u001b[01;32micuinfo\u001b[0m                             \u001b[01;32mtput\u001b[0m\n",
      "\u001b[01;32mid\u001b[0m                                  \u001b[01;32mtr\u001b[0m\n",
      "\u001b[01;32mijoin\u001b[0m                               \u001b[01;36mtraceproto\u001b[0m\n",
      "\u001b[01;32minfocmp\u001b[0m                             \u001b[01;32mtraceproto.db\u001b[0m\n",
      "\u001b[01;36minfotocap\u001b[0m                           \u001b[01;36mtraceroute\u001b[0m\n",
      "\u001b[01;32minstall\u001b[0m                             \u001b[01;36mtraceroute6\u001b[0m\n",
      "\u001b[01;32minstmodsh\u001b[0m                           \u001b[01;36mtraceroute6.db\u001b[0m\n",
      "\u001b[01;32mionice\u001b[0m                              \u001b[01;32mtraceroute.db\u001b[0m\n",
      "\u001b[01;32mipcmk\u001b[0m                               \u001b[01;32mtraceroute-nanog\u001b[0m\n",
      "\u001b[01;32mipcrm\u001b[0m                               \u001b[01;32mtroff\u001b[0m\n",
      "\u001b[01;32mipcs\u001b[0m                                \u001b[01;32mtruncate\u001b[0m\n",
      "\u001b[01;36miptables-xml\u001b[0m                        \u001b[01;32mtryaffix\u001b[0m\n",
      "\u001b[01;32mischroot\u001b[0m                            \u001b[01;32mtset\u001b[0m\n",
      "\u001b[01;32mispell\u001b[0m                              \u001b[01;32mtsort\u001b[0m\n",
      "\u001b[01;32mispell-wrapper\u001b[0m                      \u001b[01;32mtty\u001b[0m\n",
      "\u001b[01;32mjoin\u001b[0m                                \u001b[01;32mtzselect\u001b[0m\n",
      "\u001b[01;32mjson_pp\u001b[0m                             \u001b[01;32mucf\u001b[0m\n",
      "\u001b[01;32mkbdinfo\u001b[0m                             \u001b[01;32mucfq\u001b[0m\n",
      "\u001b[01;32mkbxutil\u001b[0m                             \u001b[01;32mucfr\u001b[0m\n",
      "\u001b[01;32mkernel-install\u001b[0m                      \u001b[01;32muconv\u001b[0m\n",
      "\u001b[01;32mkillall\u001b[0m                             \u001b[01;32mul\u001b[0m\n",
      "\u001b[01;32mkoi8rxterm\u001b[0m                          \u001b[01;32munexpand\u001b[0m\n",
      "\u001b[01;32mlast\u001b[0m                                \u001b[01;32municode_stop\u001b[0m\n",
      "\u001b[01;36mlastb\u001b[0m                               \u001b[01;32muniq\u001b[0m\n",
      "\u001b[01;32mlastlog\u001b[0m                             \u001b[01;32munlink\u001b[0m\n",
      "\u001b[01;32mlcf\u001b[0m                                 \u001b[01;36munlzma\u001b[0m\n",
      "\u001b[01;36mld\u001b[0m                                  \u001b[01;32munmkinitramfs\u001b[0m\n",
      "\u001b[01;36mld.bfd\u001b[0m                              \u001b[01;32munshare\u001b[0m\n",
      "\u001b[01;32mldd\u001b[0m                                 \u001b[01;32munsq\u001b[0m\n",
      "\u001b[01;36mld.gold\u001b[0m                             \u001b[01;36munxz\u001b[0m\n",
      "\u001b[01;36mless\u001b[0m                                \u001b[01;32mupdate-alternatives\u001b[0m\n",
      "\u001b[01;36mlessecho\u001b[0m                            \u001b[01;32mupdate-mime-database\u001b[0m\n",
      "\u001b[01;36mlessfile\u001b[0m                            \u001b[01;32mupdate-mime-database.real\u001b[0m\n",
      "\u001b[01;36mlesskey\u001b[0m                             \u001b[01;32muptime\u001b[0m\n",
      "\u001b[01;36mlesspipe\u001b[0m                            \u001b[01;32musb-devices\u001b[0m\n",
      "\u001b[01;32mlexgrog\u001b[0m                             \u001b[01;32musbhid-dump\u001b[0m\n",
      "\u001b[01;36mlft\u001b[0m                                 \u001b[01;32musers\u001b[0m\n",
      "\u001b[01;32mlft.db\u001b[0m                              \u001b[01;32mutmpdump\u001b[0m\n",
      "\u001b[01;32mlibgcrypt-config\u001b[0m                    \u001b[01;32muxterm\u001b[0m\n",
      "\u001b[01;32mlibnetcfg\u001b[0m                           \u001b[01;36mVBoxClient\u001b[0m\n",
      "\u001b[01;32mlibpng16-config\u001b[0m                     \u001b[01;36mVBoxControl\u001b[0m\n",
      "\u001b[01;36mlibpng-config\u001b[0m                       \u001b[01;36mverify-uselistorder\u001b[0m\n",
      "\u001b[01;32mline\u001b[0m                                \u001b[01;36mverify-uselistorder-3.8\u001b[0m\n",
      "\u001b[01;32mlink\u001b[0m                                \u001b[01;36mvi\u001b[0m\n",
      "\u001b[01;36mlinux32\u001b[0m                             \u001b[01;36mview\u001b[0m\n",
      "\u001b[01;36mlinux64\u001b[0m                             \u001b[01;32mviewres\u001b[0m\n",
      "\u001b[01;32mlinux-boot-prober\u001b[0m                   \u001b[01;32mvim.tiny\u001b[0m\n",
      "\u001b[01;32mlinux-check-removal\u001b[0m                 \u001b[01;32mvmstat\u001b[0m\n",
      "\u001b[01;32mlinux-update-symlinks\u001b[0m               \u001b[01;32mvolname\u001b[0m\n",
      "\u001b[01;32mlinux-version\u001b[0m                       \u001b[01;36mw\u001b[0m\n",
      "\u001b[01;32mlistres\u001b[0m                             \u001b[30;43mwall\u001b[0m\n",
      "\u001b[01;36mllc\u001b[0m                                 \u001b[01;32mwatch\u001b[0m\n",
      "\u001b[01;36mllc-3.8\u001b[0m                             \u001b[01;32mwatchgnupg\u001b[0m\n",
      "\u001b[01;36mlli\u001b[0m                                 \u001b[01;32mwc\u001b[0m\n",
      "\u001b[01;36mlli-3.8\u001b[0m                             \u001b[01;32mwget\u001b[0m\n",
      "\u001b[01;36mllvm-ar\u001b[0m                             \u001b[01;32mwhatis\u001b[0m\n",
      "\u001b[01;36mllvm-ar-3.8\u001b[0m                         \u001b[01;32mwhereis\u001b[0m\n",
      "\u001b[01;36mllvm-as\u001b[0m                             \u001b[01;36mwhich\u001b[0m\n",
      "\u001b[01;36mllvm-as-3.8\u001b[0m                         \u001b[01;32mwhiptail\u001b[0m\n",
      "\u001b[01;36mllvm-bcanalyzer\u001b[0m                     \u001b[01;32mwho\u001b[0m\n",
      "\u001b[01;36mllvm-bcanalyzer-3.8\u001b[0m                 \u001b[01;32mwhoami\u001b[0m\n",
      "\u001b[01;36mllvm-config\u001b[0m                         \u001b[01;36mwish\u001b[0m\n",
      "\u001b[01;36mllvm-config-3.8\u001b[0m                     \u001b[01;32mwish8.6\u001b[0m\n",
      "\u001b[01;36mllvm-cov\u001b[0m                            \u001b[01;32mw.procps\u001b[0m\n",
      "\u001b[01;36mllvm-cov-3.8\u001b[0m                        \u001b[01;36mwrite\u001b[0m\n",
      "\u001b[01;36mllvm-c-test-3.8\u001b[0m                     \u001b[01;36mX11\u001b[0m\n",
      "\u001b[01;36mllvm-cxxdump-3.8\u001b[0m                    \u001b[01;36mx86_64\u001b[0m\n",
      "\u001b[01;36mllvm-diff\u001b[0m                           \u001b[01;32mx86_64-linux-gnu-addr2line\u001b[0m\n",
      "\u001b[01;36mllvm-diff-3.8\u001b[0m                       \u001b[01;32mx86_64-linux-gnu-ar\u001b[0m\n",
      "\u001b[01;36mllvm-dis\u001b[0m                            \u001b[01;32mx86_64-linux-gnu-as\u001b[0m\n",
      "\u001b[01;36mllvm-dis-3.8\u001b[0m                        \u001b[01;32mx86_64-linux-gnu-c++filt\u001b[0m\n",
      "\u001b[01;36mllvm-dsymutil-3.8\u001b[0m                   \u001b[01;36mx86_64-linux-gnu-cpp\u001b[0m\n",
      "\u001b[01;36mllvm-dwarfdump\u001b[0m                      \u001b[01;32mx86_64-linux-gnu-cpp-6\u001b[0m\n",
      "\u001b[01;36mllvm-dwarfdump-3.8\u001b[0m                  \u001b[01;32mx86_64-linux-gnu-dwp\u001b[0m\n",
      "\u001b[01;36mllvm-dwp-3.8\u001b[0m                        \u001b[01;32mx86_64-linux-gnu-elfedit\u001b[0m\n",
      "\u001b[01;36mllvm-extract\u001b[0m                        \u001b[01;36mx86_64-linux-gnu-g++\u001b[0m\n",
      "\u001b[01;36mllvm-extract-3.8\u001b[0m                    \u001b[01;32mx86_64-linux-gnu-g++-6\u001b[0m\n",
      "\u001b[01;36mllvm-lib-3.8\u001b[0m                        \u001b[01;36mx86_64-linux-gnu-gcc\u001b[0m\n",
      "\u001b[01;36mllvm-link\u001b[0m                           \u001b[01;32mx86_64-linux-gnu-gcc-6\u001b[0m\n",
      "\u001b[01;36mllvm-link-3.8\u001b[0m                       \u001b[01;36mx86_64-linux-gnu-gcc-ar\u001b[0m\n",
      "\u001b[01;36mllvm-lto-3.8\u001b[0m                        \u001b[01;32mx86_64-linux-gnu-gcc-ar-6\u001b[0m\n",
      "\u001b[01;36mllvm-mc\u001b[0m                             \u001b[01;36mx86_64-linux-gnu-gcc-nm\u001b[0m\n",
      "\u001b[01;36mllvm-mc-3.8\u001b[0m                         \u001b[01;32mx86_64-linux-gnu-gcc-nm-6\u001b[0m\n",
      "\u001b[01;36mllvm-mcmarkup-3.8\u001b[0m                   \u001b[01;36mx86_64-linux-gnu-gcc-ranlib\u001b[0m\n",
      "\u001b[01;36mllvm-nm\u001b[0m                             \u001b[01;32mx86_64-linux-gnu-gcc-ranlib-6\u001b[0m\n",
      "\u001b[01;36mllvm-nm-3.8\u001b[0m                         \u001b[01;36mx86_64-linux-gnu-gcov\u001b[0m\n",
      "\u001b[01;36mllvm-objdump\u001b[0m                        \u001b[01;32mx86_64-linux-gnu-gcov-6\u001b[0m\n",
      "\u001b[01;36mllvm-objdump-3.8\u001b[0m                    \u001b[01;36mx86_64-linux-gnu-gcov-dump\u001b[0m\n",
      "\u001b[01;36mllvm-pdbdump-3.8\u001b[0m                    \u001b[01;32mx86_64-linux-gnu-gcov-dump-6\u001b[0m\n",
      "\u001b[01;36mllvm-PerfectShuffle-3.8\u001b[0m             \u001b[01;36mx86_64-linux-gnu-gcov-tool\u001b[0m\n",
      "\u001b[01;36mllvm-profdata\u001b[0m                       \u001b[01;32mx86_64-linux-gnu-gcov-tool-6\u001b[0m\n",
      "\u001b[01;36mllvm-profdata-3.8\u001b[0m                   \u001b[01;32mx86_64-linux-gnu-gprof\u001b[0m\n",
      "\u001b[01;36mllvm-ranlib\u001b[0m                         \u001b[01;36mx86_64-linux-gnu-ld\u001b[0m\n",
      "\u001b[01;36mllvm-ranlib-3.8\u001b[0m                     \u001b[01;32mx86_64-linux-gnu-ld.bfd\u001b[0m\n",
      "\u001b[01;36mllvm-readobj-3.8\u001b[0m                    \u001b[01;32mx86_64-linux-gnu-ld.gold\u001b[0m\n",
      "\u001b[01;36mllvm-rtdyld\u001b[0m                         \u001b[01;32mx86_64-linux-gnu-nm\u001b[0m\n",
      "\u001b[01;36mllvm-rtdyld-3.8\u001b[0m                     \u001b[01;32mx86_64-linux-gnu-objcopy\u001b[0m\n",
      "\u001b[01;36mllvm-size\u001b[0m                           \u001b[01;32mx86_64-linux-gnu-objdump\u001b[0m\n",
      "\u001b[01;36mllvm-size-3.8\u001b[0m                       \u001b[01;36mx86_64-linux-gnu-pkg-config\u001b[0m\n",
      "\u001b[01;36mllvm-split-3.8\u001b[0m                      \u001b[01;32mx86_64-linux-gnu-python2.7-config\u001b[0m\n",
      "\u001b[01;36mllvm-stress-3.8\u001b[0m                     \u001b[01;36mx86_64-linux-gnu-python3.5-config\u001b[0m\n",
      "\u001b[01;36mllvm-symbolizer\u001b[0m                     \u001b[01;32mx86_64-linux-gnu-python3.5m-config\u001b[0m\n",
      "\u001b[01;36mllvm-symbolizer-3.8\u001b[0m                 \u001b[01;36mx86_64-linux-gnu-python3-config\u001b[0m\n",
      "\u001b[01;36mllvm-tblgen\u001b[0m                         \u001b[01;36mx86_64-linux-gnu-python3m-config\u001b[0m\n",
      "\u001b[01;36mllvm-tblgen-3.8\u001b[0m                     \u001b[01;36mx86_64-linux-gnu-python-config\u001b[0m\n",
      "\u001b[01;32mlnstat\u001b[0m                              \u001b[01;32mx86_64-linux-gnu-ranlib\u001b[0m\n",
      "\u001b[01;36mloadkeys\u001b[0m                            \u001b[01;32mx86_64-linux-gnu-readelf\u001b[0m\n",
      "\u001b[01;32mloadunimap\u001b[0m                          \u001b[01;32mx86_64-linux-gnu-size\u001b[0m\n",
      "\u001b[01;32mlocale\u001b[0m                              \u001b[01;32mx86_64-linux-gnu-strings\u001b[0m\n",
      "\u001b[01;32mlocalectl\u001b[0m                           \u001b[01;32mx86_64-linux-gnu-strip\u001b[0m\n",
      "\u001b[01;32mlocaledef\u001b[0m                           \u001b[01;32mx86_64-pc-linux-gnu-pkg-config\u001b[0m\n",
      "\u001b[01;32mlogger\u001b[0m                              \u001b[01;32mxargs\u001b[0m\n",
      "\u001b[01;32mlogname\u001b[0m                             \u001b[01;32mxauth\u001b[0m\n",
      "\u001b[01;32mlook\u001b[0m                                \u001b[01;32mxdg-user-dir\u001b[0m\n",
      "\u001b[01;32mlorder\u001b[0m                              \u001b[01;32mxdg-user-dirs-update\u001b[0m\n",
      "\u001b[01;32mlsattr\u001b[0m                              \u001b[01;32mxdpyinfo\u001b[0m\n",
      "\u001b[01;32mlsb_release\u001b[0m                         \u001b[01;32mxdriinfo\u001b[0m\n",
      "\u001b[01;32mlscpu\u001b[0m                               \u001b[01;32mxev\u001b[0m\n",
      "\u001b[01;32mlsinitramfs\u001b[0m                         \u001b[01;32mxfd\u001b[0m\n",
      "\u001b[01;32mlsipc\u001b[0m                               \u001b[01;32mxfontsel\u001b[0m\n",
      "\u001b[01;32mlslocks\u001b[0m                             \u001b[01;32mxkill\u001b[0m\n",
      "\u001b[01;32mlslogins\u001b[0m                            \u001b[01;32mxlsatoms\u001b[0m\n",
      "\u001b[01;32mlsns\u001b[0m                                \u001b[01;32mxlsclients\u001b[0m\n",
      "\u001b[01;32mlsof\u001b[0m                                \u001b[01;32mxlsfonts\u001b[0m\n",
      "\u001b[01;32mlspci\u001b[0m                               \u001b[01;32mxmessage\u001b[0m\n",
      "\u001b[01;32mlspgpot\u001b[0m                             \u001b[01;32mxml2-config\u001b[0m\n",
      "\u001b[01;32mlsusb\u001b[0m                               \u001b[01;32mxmlsec1-config\u001b[0m\n",
      "\u001b[01;32mluit\u001b[0m                                \u001b[01;32mxprop\u001b[0m\n",
      "\u001b[01;32mlxterm\u001b[0m                              \u001b[01;32mxslt-config\u001b[0m\n",
      "\u001b[01;36mlzcat\u001b[0m                               \u001b[01;32mxsubpp\u001b[0m\n",
      "\u001b[01;36mlzcmp\u001b[0m                               \u001b[01;32mxterm\u001b[0m\n",
      "\u001b[01;36mlzdiff\u001b[0m                              \u001b[01;36mx-terminal-emulator\u001b[0m\n",
      "\u001b[01;36mlzegrep\u001b[0m                             \u001b[01;32mxvinfo\u001b[0m\n",
      "\u001b[01;36mlzfgrep\u001b[0m                             \u001b[01;32mxwininfo\u001b[0m\n",
      "\u001b[01;36mlzgrep\u001b[0m                              \u001b[01;32mxxd\u001b[0m\n",
      "\u001b[01;36mlzless\u001b[0m                              \u001b[01;32mxz\u001b[0m\n",
      "\u001b[01;36mlzma\u001b[0m                                \u001b[01;36mxzcat\u001b[0m\n",
      "\u001b[01;32mlzmainfo\u001b[0m                            \u001b[01;36mxzcmp\u001b[0m\n",
      "\u001b[01;36mlzmore\u001b[0m                              \u001b[01;32mxzdiff\u001b[0m\n",
      "\u001b[01;36mmail\u001b[0m                                \u001b[01;36mxzegrep\u001b[0m\n",
      "\u001b[01;32mmail.mailutils\u001b[0m                      \u001b[01;36mxzfgrep\u001b[0m\n",
      "\u001b[01;36mmailq\u001b[0m                               \u001b[01;32mxzgrep\u001b[0m\n",
      "\u001b[01;32mmailutils\u001b[0m                           \u001b[01;32mxzless\u001b[0m\n",
      "\u001b[01;36mmailx\u001b[0m                               \u001b[01;32mxzmore\u001b[0m\n",
      "\u001b[01;32mmake\u001b[0m                                \u001b[01;36myaml2obj\u001b[0m\n",
      "\u001b[01;32mmakeconv\u001b[0m                            \u001b[01;36myaml2obj-3.8\u001b[0m\n",
      "\u001b[01;32mmake-first-existing-target\u001b[0m          \u001b[01;32myes\u001b[0m\n",
      "\u001b[01;32mman\u001b[0m                                 \u001b[01;32mzdump\u001b[0m\n",
      "\u001b[01;32mmandb\u001b[0m                               \u001b[01;32mzipdetails\u001b[0m\n",
      "\u001b[01;32mmanpath\u001b[0m\n"
     ]
    }
   ],
   "source": [
    "ls /usr/bin"
   ]
  },
  {
   "cell_type": "markdown",
   "metadata": {},
   "source": [
    "# Copia archivos y directorios\n",
    "\n",
    "Para copiar archivos y directorios en linux podemos usar el comando *cp*.\n",
    "\n",
    "El primer parametro es el nombre de archivo o directorio de origen, y el segundo parametro es el archivo o ruta donde se creara la copia de este."
   ]
  },
  {
   "cell_type": "code",
   "execution_count": 2,
   "metadata": {},
   "outputs": [
    {
     "name": "stdout",
     "output_type": "stream",
     "text": [
      "\u001b[0m\u001b[34;42mproyectos\u001b[0m  Untitled.ipynb\n"
     ]
    }
   ],
   "source": [
    "ls"
   ]
  },
  {
   "cell_type": "code",
   "execution_count": 4,
   "metadata": {},
   "outputs": [],
   "source": [
    "cp Untitled.ipynb copia-Untitled.ipynb"
   ]
  },
  {
   "cell_type": "code",
   "execution_count": 6,
   "metadata": {},
   "outputs": [
    {
     "name": "stdout",
     "output_type": "stream",
     "text": [
      "mkdir: cannot create directory ‘copiame’: File exists\n"
     ]
    },
    {
     "ename": "",
     "evalue": "1",
     "output_type": "error",
     "traceback": []
    }
   ],
   "source": [
    "mkdir copiame"
   ]
  },
  {
   "cell_type": "code",
   "execution_count": 8,
   "metadata": {},
   "outputs": [],
   "source": [
    "cp Untitled.ipynb copiame/copia-Untitled2.ipynb"
   ]
  },
  {
   "cell_type": "code",
   "execution_count": 9,
   "metadata": {},
   "outputs": [
    {
     "name": "stdout",
     "output_type": "stream",
     "text": [
      "copia-Untitled2.ipynb\n"
     ]
    }
   ],
   "source": [
    "ls copiame"
   ]
  },
  {
   "cell_type": "markdown",
   "metadata": {},
   "source": [
    "# PWD\n",
    "\n",
    "El comando *pwd* nos imprime en consola el directorio donde estamos posicionados."
   ]
  },
  {
   "cell_type": "code",
   "execution_count": 10,
   "metadata": {},
   "outputs": [
    {
     "name": "stdout",
     "output_type": "stream",
     "text": [
      "/home/vagrant\n"
     ]
    }
   ],
   "source": [
    "pwd"
   ]
  },
  {
   "cell_type": "code",
   "execution_count": 11,
   "metadata": {},
   "outputs": [],
   "source": [
    "cp copiame/copia-Untitled2.ipynb ./copianueva-Untitled2.ipynb"
   ]
  },
  {
   "cell_type": "markdown",
   "metadata": {},
   "source": [
    "# Comando PS\n",
    "\n",
    "Este comando nos permite observar los procesos, lee directamente la información del sistema de archivos /prc."
   ]
  },
  {
   "cell_type": "code",
   "execution_count": 12,
   "metadata": {},
   "outputs": [
    {
     "name": "stdout",
     "output_type": "stream",
     "text": [
      "UID        PID  PPID  C STIME TTY          TIME CMD\n",
      "root         1     0  0 08:21 ?        00:00:01 /sbin/init\n",
      "root         2     0  0 08:21 ?        00:00:00 [kthreadd]\n",
      "root         3     2  0 08:21 ?        00:00:00 [ksoftirqd/0]\n",
      "root         5     2  0 08:21 ?        00:00:00 [kworker/0:0H]\n",
      "root         7     2  0 08:21 ?        00:00:00 [rcu_sched]\n",
      "root         8     2  0 08:21 ?        00:00:00 [rcu_bh]\n",
      "root         9     2  0 08:21 ?        00:00:00 [migration/0]\n",
      "root        10     2  0 08:21 ?        00:00:00 [lru-add-drain]\n",
      "root        11     2  0 08:21 ?        00:00:00 [watchdog/0]\n",
      "root        12     2  0 08:21 ?        00:00:00 [cpuhp/0]\n",
      "root        13     2  0 08:21 ?        00:00:00 [kdevtmpfs]\n",
      "root        14     2  0 08:21 ?        00:00:00 [netns]\n",
      "root        15     2  0 08:21 ?        00:00:00 [khungtaskd]\n",
      "root        16     2  0 08:21 ?        00:00:00 [oom_reaper]\n",
      "root        17     2  0 08:21 ?        00:00:00 [writeback]\n",
      "root        18     2  0 08:21 ?        00:00:00 [kcompactd0]\n",
      "root        19     2  0 08:21 ?        00:00:00 [ksmd]\n",
      "root        21     2  0 08:21 ?        00:00:00 [khugepaged]\n",
      "root        22     2  0 08:21 ?        00:00:00 [crypto]\n",
      "root        23     2  0 08:21 ?        00:00:00 [kintegrityd]\n",
      "root        24     2  0 08:21 ?        00:00:00 [bioset]\n",
      "root        25     2  0 08:21 ?        00:00:00 [kblockd]\n",
      "root        26     2  0 08:21 ?        00:00:00 [devfreq_wq]\n",
      "root        27     2  0 08:21 ?        00:00:00 [watchdogd]\n",
      "root        28     2  0 08:21 ?        00:00:00 [kswapd0]\n",
      "root        29     2  0 08:21 ?        00:00:00 [vmstat]\n",
      "root        41     2  0 08:21 ?        00:00:00 [kthrotld]\n",
      "root        42     2  0 08:21 ?        00:00:00 [ipv6_addrconf]\n",
      "root        75     2  0 08:21 ?        00:00:00 [ata_sff]\n",
      "root        83     2  0 08:21 ?        00:00:00 [kworker/u2:1]\n",
      "root       103     2  0 08:21 ?        00:00:00 [scsi_eh_0]\n",
      "root       104     2  0 08:21 ?        00:00:00 [scsi_tmf_0]\n",
      "root       105     2  0 08:21 ?        00:00:00 [scsi_eh_1]\n",
      "root       106     2  0 08:21 ?        00:00:00 [scsi_tmf_1]\n",
      "root       107     2  0 08:21 ?        00:00:00 [kworker/u2:2]\n",
      "root       108     2  0 08:21 ?        00:00:00 [scsi_eh_2]\n",
      "root       109     2  0 08:21 ?        00:00:00 [scsi_tmf_2]\n",
      "root       111     2  0 08:21 ?        00:00:00 [bioset]\n",
      "root       112     2  0 08:21 ?        00:00:00 [bioset]\n",
      "root       114     2  0 08:21 ?        00:00:00 [kworker/0:1H]\n",
      "root       142     2  0 08:21 ?        00:00:00 [kworker/u3:0]\n",
      "root       156     2  0 08:21 ?        00:00:00 [jbd2/sda1-8]\n",
      "root       157     2  0 08:21 ?        00:00:00 [ext4-rsv-conver]\n",
      "root       182     1  0 08:21 ?        00:00:00 /lib/systemd/systemd-journald\n",
      "root       188     2  0 08:21 ?        00:00:00 [kauditd]\n",
      "root       192     2  0 08:21 ?        00:00:00 [kworker/0:4]\n",
      "root       217     1  0 08:21 ?        00:00:00 /lib/systemd/systemd-udevd\n",
      "root       294     2  0 08:21 ?        00:00:00 [ttm_swap]\n",
      "root       302     2  0 08:21 ?        00:00:00 [iprt-VBoxWQueue]\n",
      "message+   388     1  0 08:21 ?        00:00:00 /usr/bin/dbus-daemon --system --\n",
      "root       394     1  0 08:21 ?        00:00:00 /lib/systemd/systemd-logind\n",
      "root       395     1  0 08:21 ?        00:00:00 /usr/sbin/cron -f\n",
      "root       396     1  0 08:21 ?        00:00:00 /usr/sbin/rsyslogd -n\n",
      "root       437     1  0 08:21 tty1     00:00:00 /sbin/agetty --noclear tty1 linu\n",
      "root       467     1  0 08:21 ?        00:00:00 /sbin/dhclient -4 -v -pf /run/dh\n",
      "root       501     1  0 08:21 ?        00:00:00 /usr/sbin/sshd -D\n",
      "root      1142     1  0 08:22 ?        00:00:00 /usr/sbin/VBoxService --pidfile \n",
      "Debian-+  1152     1  0 08:22 ?        00:00:00 /usr/sbin/exim4 -bd -q30m\n",
      "root      1156   501  0 08:23 ?        00:00:00 sshd: vagrant [priv]\n",
      "vagrant   1158     1  0 08:23 ?        00:00:00 /lib/systemd/systemd --user\n",
      "vagrant   1159  1158  0 08:23 ?        00:00:00 (sd-pam)\n",
      "vagrant   1165  1156  0 08:23 ?        00:00:00 sshd: vagrant@pts/0\n",
      "vagrant   1166  1165  0 08:23 pts/0    00:00:00 -bash\n",
      "vagrant   1254  1166  0 08:23 pts/0    00:00:06 /usr/bin/python /home/vagrant/.l\n",
      "vagrant   1261  1254  0 08:24 ?        00:00:01 /usr/bin/python -m bash_kernel -\n",
      "vagrant   1271  1261  0 08:24 pts/1    00:00:00 /bin/bash --rcfile /home/vagrant\n",
      "root      1359     2  0 08:27 ?        00:00:00 [kworker/0:0]\n",
      "root      1366     2  0 08:32 ?        00:00:00 [kworker/0:1]\n",
      "vagrant   1371  1271  0 08:36 pts/1    00:00:00 ps -ef\n"
     ]
    }
   ],
   "source": [
    "ps -ef"
   ]
  },
  {
   "cell_type": "markdown",
   "metadata": {},
   "source": [
    "# Directorios de Unix\n",
    "\n",
    "En este articulo intentaremos explicar lo mas brevemente posible, como los directorios de un sistema Linux/Unix estan organizados y para que se usan. Uno de los problemas que tienen los nuevos usuarios de un sistema Linux/Unix es el no saber que significan y para que se utilizan los diferentes directorios del sistema. No os preocupeis, en un principio puede pareceros dificil y sin logica, pero una vez que empeceis a usarlos os acostumbrais pronto.\n",
    "\n",
    "Existe un estandard, el \"Estándar de jerarquía de ficheros\" (FHS - Filesystem Hierarchy Standard) que intenta definir unas bases, para que tanto los programas del sistema, como los usuarios y administradores, sepan donde encontrar lo que buscan. \n",
    "\n",
    "Este estándar está mantenido por la 'Free Standards Group', una organización sin fines de lucro constituida por compañías de hardware y software como AMD, Computer Associates, Debian, Dell, Fujitsu, Google, HP, IBM, Intel, MySQL, NEC, Novell, Red Flag, Red Hat, Sun Microsystems, Veritas y otros muchos. La mayoría de las distribuciones de Linux, inclusive las que forman parte de Free Software Standards, no aplican de forma estricta y al 100% el estándar, aunque las diferencias son mínimas.\n",
    "\n",
    "Existen dos tipos de distinciones cuando hablamos del tipo de contenido de un directorio: Estáticos/dinámicos y compartibles/no compartibles.\n",
    "\n",
    "Estaticos: Contiene binarios, bibliotecas, documentacion y otros ficheros que no cambian sin intervencion del administrador. Pueden estar en dispositivos de solo lectura (read-only) y no necesitan que se hagan copias de seguridad tan a menudo como con ficheros dinamicos\n",
    "Dinamicos: Contiene ficheros que no son estaticos. Deben de encontrase en dispositivos de lectura-escritura (read-write). Necesitan que se hagan copias de seguridad a menudo\n",
    "Compartibles: Contiene ficheros que se pueden encontrar en un ordenador y utilizarse en otro\n",
    "No compartibles: Contiene ficheros que no son compartibles\n",
    "A continuacion teneis algunos ejemplos para aclarar ideas:\n",
    "\n",
    "Estaticos: /bin, /sbin, /opt, /boot, /usr/bin\n",
    "Dinamicos: /var/mail, /var/spool, /var/run, /var/lock, /home\n",
    "Compartibles: /usr/bin, /opt\n",
    "No compartibles: /etc, /boot, /var/run, /var/lock\n",
    "Todos los ficheros y directorios aparecen debajo del directorio raíz «/» (El equivalente en el mundo Unix al C:\\ de Windows) aunque se encuentren en discos/dispositivos distintos. En Linux/Unix no existen letras de discos (C:, D:, etc) Los dispositivos se 'montan' (empiezan a formar parte) del arbol de directorios del sistema, pero esto lo explicaremos en otra ocasion.\n",
    "\n",
    "A continuacion teneis una lista con los directorios mas importantes del sistema y para que se usan. Para acceder a los mismos podeis usar el comando cd 'nombre del directorio'. Para ver el contenido de los mismos podeis usar el comando ls -l 'nombre del directorio'.\n",
    "\n",
    "Directorio        Descripción\n",
    "-----------------------------------------------------------------------------------------\n",
    "/bin/\t\tComandos/programas binarios esenciales (cp, mv, ls, rm, etc.).\n",
    "/boot/\t\tFicheros utilizados durante el arranque del sistema (núcleo y discos RAM)\n",
    "/dev/\t\tDispositivos esenciales, discos duros, terminales, sonido,\n",
    "\t\tvideo, lectores dvd/cd, etc\n",
    "\n",
    "/etc/\t\tFicheros de configuración utilizados en todo el sistema y que\n",
    "\t\tson específicos del ordenador\n",
    "\n",
    "/etc/opt/\tFicheros de configuración utilizados por programas alojados dentro\n",
    "\t\tde /opt/\n",
    "\n",
    "/etc/X11/\tFicheros de configuración para el sistema X Window (Opcional)\n",
    "/etc/sgml/\tFicheros de configuración para SGML (Opcional)\n",
    "/etc/xml/\tFicheros de configuración para XML (Opcional)\n",
    "\n",
    "/home/\t\tDirectorios de inicios de los usuarios (Opcional)\n",
    "/lib/\t\tBibliotecas compartidas esenciales para los binarios de /bin/, /sbin/ y\n",
    "\t\tel núcleo del sistema.\n",
    "\n",
    "/mnt/\t\tSistemas de ficheros montados temporalmente.\n",
    "/media/\t\tPuntos de montaje para dispositivos de medios como unidades lectoras\n",
    "\t\tde discos compactos.\n",
    "\n",
    "/opt/\t\tPaquetes de aplicaciones estáticas.\n",
    "/proc/\t\tSistema de ficheros virtual que documenta sucesos y estados del\n",
    "\t\tnúcleo. Contiene principalmente ficheros de texto.\n",
    "\n",
    "/root/\t\tDirectorio de inicio del usuario root (super-usuario) (Opcional)\n",
    "/sbin/\t\tComandos/programas binarios de administración de sistema.\n",
    "/tmp/\t\tFicheros temporales\n",
    "/srv/\t\tDatos específicos de sitio servidos por el sistema.\n",
    "/usr/\t\tJerarquía secundaria para datos compartidos de solo lectura (Unix system\n",
    "\t\tresources). Este directorio puede ser compartido por\n",
    "\t\tmúltiples ordenadores y no debe contener datos específicos del\n",
    "\t\tordenador que los comparte.\n",
    "\n",
    "/usr/bin/\tComandos/programas binarios.\n",
    "/usr/include/\tFicheros de inclusión estándar (cabeceras de cabecera utilizados\n",
    "\t\tpara desarrollo).\n",
    "\n",
    "/usr/lib/\tBibliotecas compartidas.\n",
    "/usr/share/\tDatos compartidos independientes de la arquitectura del\n",
    "\t\tsistema. Imágenes, ficheros de texto, etc.\n",
    "\n",
    "/usr/src/\tCódigos fuente (Opcional)\n",
    "/usr/X11R6/\tSistema X Window, versión 11, lanzamiento 6 (Opcional)\n",
    "/usr/local/\tJerarquía terciaria para datos compartidos de solo lectura\n",
    "\t\tespecíficos del ordenador que los comparte.\n",
    "\n",
    "/var/\t\tFicheros variables, como son logs, bases de datos, directorio raíz\n",
    "\t\tde servidores HTTP y FTP, colas de correo, ficheros temporales, etc.\n",
    "\n",
    "/var/cache/\tCache da datos de aplicaciones.\n",
    "/var/crash/\tDepósito de información referente a caidas del sistema (Opcional)\n",
    "\n",
    "/var/games/\tDatos variables de aplicaciones para juegos (Opcional)\n",
    "/var/lib/\tInformación de estado variable. Algunos servidores como MySQL y\n",
    "\t\tPostgreSQL almacenan sus bases de datos en directorios subordinados de éste.\n",
    "\n",
    "/var/lock/\tFicheros de bloqueo.\n",
    "/var/log/\tFicheros y directorios de registro del sistemas (logs).\n",
    "/var/mail/\tBuzones de correo de usuarios (Opcional)\n",
    "/var/opt/\tDatos variables de /opt/.\n",
    "/var/spool/\tColas de datos de aplicaciones.\n",
    "/var/tmp/\tFicheros temporales preservados entre reinicios."
   ]
  },
  {
   "cell_type": "markdown",
   "metadata": {},
   "source": [
    "# ¿Qué es un proceso?\n",
    "Un proceso, en informática, puede entenderse informalmente como un programa en ejecución. Formalmente un proceso es \"Una unidad de actividad que se caracteriza por la ejecución de una secuencia de instrucciones, un estado actual, y un conjunto de recursos del sistema asociados\".\n",
    "# ¿Qué es un hilo?\n",
    "En sistemas operativos, un hilo (del inglés thread), hebra (del inglés fiber), proceso ligero o subproceso es una secuencia de tareas encadenadas muy pequeña que puede ser ejecutada por un sistema operativo.\n"
   ]
  },
  {
   "cell_type": "markdown",
   "metadata": {},
   "source": [
    "# Diferencia entre hilo y proceso.\n",
    "Los hilos se distinguen de los tradicionales procesos en que los procesos son generalmente independientes, llevan bastante información de estados, e interactúan sólo a través de mecanismos de comunicación dados por el sistema. Por otra parte, muchos hilos generalmente comparten otros recursos directamente. En muchos de los sistemas operativos que proveen facilidades para los hilos, es más rápido cambiar de un hilo a otro dentro del mismo proceso, que cambiar de un proceso a otro. Este fenómeno se debe a que los hilos comparten datos y espacios de direcciones, mientras que los procesos al ser independientes no lo hacen. Al cambiar de un proceso a otro el sistema operativo (mediante el dispatcher) genera lo que se conoce como overhead, que es tiempo desperdiciado por el procesador para realizar un cambio de modo (mode switch), en este caso pasar del estado de Running al estado de Waiting o Bloqueado y colocar el nuevo proceso en Running. En los hilos como pertenecen a un mismo proceso al realizar un cambio de hilo este overhead es casi despreciable.\n"
   ]
  }
 ],
 "metadata": {
  "kernelspec": {
   "display_name": "Bash",
   "language": "bash",
   "name": "bash"
  },
  "language_info": {
   "codemirror_mode": "shell",
   "file_extension": ".sh",
   "mimetype": "text/x-sh",
   "name": "bash"
  }
 },
 "nbformat": 4,
 "nbformat_minor": 2
}
